{
 "cells": [
  {
   "cell_type": "markdown",
   "metadata": {},
   "source": [
    "# 1. introduction"
   ]
  },
  {
   "cell_type": "markdown",
   "metadata": {},
   "source": [
    "In this notebook we'll explore the Transformer architecture, a neural network that takes advantage of parallel processing and allows you to substantially speed up the training process. \n",
    "\n",
    "**After this Project you'll be able to**:\n",
    "* Understand each step of Transformer Network\n",
    "* understand Attention\n",
    "* how to change paper to code \n",
    "\n",
    "### What is Transformer Model? \n",
    "The Transformer model, introduced in Attention Is All You Need (2017), is a deep learning architecture that replaces recurrence with self-attention to process sequences in parallel.\n",
    "* the paper link [attention is all you need](https://arxiv.org/abs/1706.03762)\n",
    "\n",
    "<img src=\"images/Transformer.png\" alt=\"Encoder\" width=\"600\"/>\n",
    "<caption><center><font color='Green'><b>Figure 1:  The Transformer- model architecture.</font></center></caption>\n"
   ]
  },
  {
   "cell_type": "markdown",
   "metadata": {},
   "source": [
    "# 2. import Dependencies"
   ]
  },
  {
   "cell_type": "code",
   "execution_count": 1,
   "metadata": {},
   "outputs": [],
   "source": [
    "# standard\n",
    "import numpy as np\n",
    "import matplotlib.pyplot as plt\n",
    "\n",
    "# Tensorflow\n",
    "import tensorflow as tf\n",
    "from tensorflow.keras.layers import Embedding, MultiHeadAttention, Dense, Input, Dropout, LayerNormalization"
   ]
  },
  {
   "cell_type": "markdown",
   "metadata": {},
   "source": [
    "# 3. Token Embedding\n",
    "\n",
    "This layer converts token indices into dense vectors, similar to how PyTorch/TensorFlow embedding layers work.\n",
    "\n",
    "<a name='6'></a>\n",
    "### 3.1 - He Initialization\n",
    "\n",
    "\"He Initialization\"; this is named for the first author of He et al., 2015. \n",
    "\n",
    "\n",
    "Implement the following function to initialize our parameters with He initialization.  $\\sqrt{\\frac{2}{\\text{dimension of the previous layer}}}$, which is what He initialization recommends for layers with a ReLU activation. "
   ]
  },
  {
   "cell_type": "code",
   "execution_count": 5,
   "metadata": {},
   "outputs": [],
   "source": [
    "class TokenEmbedding:\n",
    "    def __init__(self, VOCAB_SIZE, d_model):\n",
    "\n",
    "        # VOCAB_SIZE: total number of unique tokens which means total vocabulary \n",
    "        # d_model: dimension  of each token's embedding vector \n",
    "        \n",
    "        # initialize imbedding matrix with xavier method \n",
    "        self.VOCAB_SIEZ = VOCAB_SIZE\n",
    "        self.d_model = d_model\n",
    "\n",
    "        self.embedding_matrix = np.random.randn(VOCAB_SIZE, d_model) * np.sqrt(2/d_model)\n",
    "\n",
    "    def toDenseVector(self, TOKEN_INDICES):\n",
    "        # this change the token to its represented embedding matrix\n",
    "        return self.embedding_matrix[TOKEN_INDICES]"
   ]
  },
  {
   "cell_type": "markdown",
   "metadata": {},
   "source": [
    "### TEXT CASE"
   ]
  },
  {
   "cell_type": "code",
   "execution_count": 6,
   "metadata": {},
   "outputs": [
    {
     "name": "stdout",
     "output_type": "stream",
     "text": [
      "Token Embeddings Shape: (2, 5, 128)\n"
     ]
    },
    {
     "data": {
      "text/plain": [
       "' \\n2 => Batch size (in this case 2 sentence at once)\\n5 => Sequence Length ( 5 word on each sentence )\\n128 => embedding dense \\n'"
      ]
     },
     "execution_count": 6,
     "metadata": {},
     "output_type": "execute_result"
    }
   ],
   "source": [
    "VOCAB_SIZE = 10000\n",
    "d_model = 128\n",
    "token_embedding = TokenEmbedding(VOCAB_SIZE, d_model)\n",
    "\n",
    "token_indices = np.array([\n",
    "    [1, 5, 7, 2, 8],  # First sequence\n",
    "    [4, 3, 9, 6, 0]   # Second sequence\n",
    "])\n",
    "\n",
    "embedded_tokens = token_embedding.toDenseVector(token_indices)\n",
    "print(\"Token Embeddings Shape:\", embedded_tokens.shape)  # Expected: (2, 5, 128) \n",
    "\n",
    "\"\"\" \n",
    "2 => Batch size (in this case 2 sentence at once)\n",
    "5 => Sequence Length ( 5 word on each sentence )\n",
    "128 => embedding dense \n",
    "\"\"\""
   ]
  },
  {
   "cell_type": "markdown",
   "metadata": {},
   "source": [
    "# 4. Positional Encoding\n",
    "\n",
    "In sequence to sequence tasks, the relative order of our data is extremely important to its meaning. When we were training sequential neural networks such as RNNs, we fed our inputs into the network in order. Information about the order of our data was automatically fed into our model.  However, when we train a Transformer network using multi-head attention, we feed our data into the model all at once. While this dramatically reduces training time, there is no information about the order of our data. This is where positional encoding is useful - we can specifically encode the positions of our inputs and pass them into the network using these sine and cosine formulas:\n",
    "$$\n",
    "PE_{(pos, 2i)}= sin\\left(\\frac{pos}{{10000}^{\\frac{2i}{d}}}\\right)\n",
    "\\tag{1}$$\n",
    "\n",
    "* $d$ is the dimension of the word embedding and positional encoding\n",
    "* $pos$ is the position of the word.\n",
    "* $k$ refers to each of the different dimensions in the positional encodings, with $i$ equal to $k$ $//$ $2$.\n",
    "  \n",
    "This ensures each position has a unique encoding and helps the model differentiate between words based on their order."
   ]
  },
  {
   "cell_type": "code",
   "execution_count": 60,
   "metadata": {},
   "outputs": [],
   "source": [
    "def get_angle(pos, k, d_model):\n",
    "    \"\"\" \n",
    "    Computes angle values for the positional encoding\n",
    "    pos is position of a specific token \n",
    "    k is embedding dimension \n",
    "    \"\"\"\n",
    "    i = k//2\n",
    "    angles = (pos / np.power(10000, (2*i/d_model)))\n",
    "\n",
    "    return angles"
   ]
  },
  {
   "cell_type": "code",
   "execution_count": null,
   "metadata": {},
   "outputs": [],
   "source": [
    "def positional_encoding(positions, d_model):\n",
    "\n",
    "    \"\"\"\n",
    "        Computes positional encoding matrix for a given sequence length and embedding dimension.\n",
    "\n",
    "        positions: Maximum sequence length\n",
    "        d_model: Embedding dimension\n",
    "\n",
    "        return: Positional encoding matrix (1, positions, d_model)\n",
    "\n",
    "        \"\"\"\n",
    "    \n",
    "    # initialize the position_indices and dim_indices and and change int to 2D array then get angle for them \n",
    "    angle_rads = get_angle(np.arange(positions)[:, np.newaxis],\n",
    "                           np.arange(d_model)[np.newaxis, :], d_model)\n",
    "    \n",
    "    # apply sine to even and cos to odd indices\n",
    "    angle_rads[:, 0::2] = np.sin(angle_rads[:, 0::2])\n",
    "    angle_rads[:, 1::2] = np.cos(angle_rads[:, 1::2])\n",
    "\n",
    "\n",
    "    # batch compatibility \n",
    "    batch_size = 2\n",
    "    pos_encoding = np.tile(angle_rads[np.newaxis, ...], (batch_size, 1, 1)) \n",
    "\n",
    "    return tf.cast(pos_encoding, dtype=tf.float32)"
   ]
  },
  {
   "cell_type": "code",
   "execution_count": 68,
   "metadata": {},
   "outputs": [
    {
     "name": "stdout",
     "output_type": "stream",
     "text": [
      "(2, 20, 128)\n"
     ]
    }
   ],
   "source": [
    "POSITION = 20\n",
    "d_model = 128\n",
    "\n",
    "pos_enc = positional_encoding(POSITION, d_model)\n",
    "print(pos_enc.shape)"
   ]
  },
  {
   "cell_type": "markdown",
   "metadata": {},
   "source": [
    "TEST CASE"
   ]
  },
  {
   "cell_type": "code",
   "execution_count": 69,
   "metadata": {},
   "outputs": [
    {
     "data": {
      "image/png": "[encoded data removed]",
      "text/plain": [
       "<Figure size 640x480 with 2 Axes>"
      ]
     },
     "metadata": {},
     "output_type": "display_data"
    }
   ],
   "source": [
    "# visualize the positional encoding \n",
    "plt.pcolormesh(pos_enc[0], cmap='RdBu')\n",
    "plt.xlabel('d_model')\n",
    "plt.xlim((0, 128))\n",
    "plt.ylabel('Position')\n",
    "plt.colorbar()\n",
    "plt.show()\n"
   ]
  },
  {
   "cell_type": "markdown",
   "metadata": {},
   "source": [
    "Each row represents a positional encoding - notice how none of the rows are identical! we have created a unique positional encoding for each of the words."
   ]
  },
  {
   "cell_type": "markdown",
   "metadata": {},
   "source": [
    "# 5. Scaled Dot Product Attention\n",
    "<img src=\"images/scaled_dot.png\" alt=\"Encoder\" width=\"300\"/>\n",
    "<caption><center><font color='Green'><b>Figure 2: The Transformer- model architecture.</font></center></caption>\n",
    "\n",
    "We call our particular attention \"Scaled Dot-Product Attention\" The input consists of\n",
    "queries and keys of dimension dk, and values of dimension dv. We compute the dot products of the\n",
    "query with all keys, divide each by √dk, and apply a softmax function to obtain the weights on the values.\n",
    "\n",
    "The use of self-attention paired with traditional convolutional networks allows for parallelization which speeds up training. You will implement **scaled dot product attention** which takes in a query, key, value, and a mask as inputs to return rich, attention-based vector representations of the words in your sequence. This type of self-attention can be mathematically expressed as:\n",
    "$$\n",
    "\\text { Attention }(Q, K, V)=\\operatorname{softmax}\\left(\\frac{Q K^{T}}{\\sqrt{d_{k}}}+{M}\\right) V\\tag{4}\\\n",
    "$$\n",
    "\n",
    "* $Q$ is the matrix of queries \n",
    "* $K$ is the matrix of keys\n",
    "* $V$ is the matrix of values\n",
    "* $M$ is the optional mask you choose to apply \n",
    "* ${d_k}$ is the dimension of the keys, which is used to scale everything down so the softmax doesn't explode\n",
    "\n",
    "use this [tf.matmul](https://www.tensorflow.org/api_docs/python/tf/linalg/matmul) useful for matrix multiplication.\n"
   ]
  },
  {
   "cell_type": "code",
   "execution_count": null,
   "metadata": {},
   "outputs": [],
   "source": [
    "def scaled_dot_product_attention(q, k, v, mask):\n",
    "    # get the dk length\n",
    "    dk = tf.cast(tf.shape(k)[-1], tf.float32)\n",
    "    \n",
    "    matmul_qk = tf.matmul(q, k, transpose_b=True)\n",
    "    # scaled the dot product \n",
    "\n",
    "    scaled_attention_logits = matmul_qk / np.sqrt(dk)\n",
    "\n",
    "    # calculate the softmax i.e weight attention \n",
    "    attention_weight = tf.nn.softmax(scaled_attention_logits, axis=-1) # tell us how much each word cares about others.\n",
    "\n",
    "    output = tf.matmul(attention_weight, v)\n",
    "\n",
    "    return output, attention_weight"
   ]
  },
  {
   "cell_type": "markdown",
   "metadata": {},
   "source": [
    "TEST CASE"
   ]
  },
  {
   "cell_type": "code",
   "execution_count": 3,
   "metadata": {},
   "outputs": [
    {
     "name": "stdout",
     "output_type": "stream",
     "text": [
      "Attention Weights:\n",
      " [[[0.42231882 0.15536243 0.42231882]\n",
      "  [0.15536243 0.42231882 0.42231882]\n",
      "  [0.21194157 0.21194157 0.57611686]]]\n",
      "Output:\n",
      " [[[0.5        0.6        0.70000005 0.8000001 ]\n",
      "  [0.60678256 0.7067826  0.8067826  0.9067826 ]\n",
      "  [0.6456701  0.74567014 0.8456701  0.9456701 ]]]\n"
     ]
    }
   ],
   "source": [
    "\n",
    "def test_scaled_dot_product_attention():\n",
    "    # Define toy inputs (batch_size=2, num_heads=1, seq_length=3, depth=4)\n",
    "    q = tf.constant([[[1.0, 0.0, 1.0, 0.0], \n",
    "                      [0.0, 1.0, 0.0, 1.0], \n",
    "                      [1.0, 1.0, 1.0, 1.0]]], dtype=tf.float32)  # (1, 3, 4)\n",
    "\n",
    "    k = tf.constant([[[1.0, 0.0, 1.0, 0.0], \n",
    "                      [0.0, 1.0, 0.0, 1.0], \n",
    "                      [1.0, 1.0, 1.0, 1.0]]], dtype=tf.float32)  # (1, 3, 4)\n",
    "\n",
    "    v = tf.constant([[[0.1, 0.2, 0.3, 0.4], \n",
    "                      [0.5, 0.6, 0.7, 0.8], \n",
    "                      [0.9, 1.0, 1.1, 1.2]]], dtype=tf.float32)  # (1, 3, 4)\n",
    "\n",
    "    mask = None  # No mask for this test\n",
    "\n",
    "    # Compute scaled dot-product attention\n",
    "    output, attention_weights = scaled_dot_product_attention(q, k, v, mask)\n",
    "\n",
    "    # Print results\n",
    "    print(\"Attention Weights:\\n\", attention_weights.numpy())\n",
    "    print(\"Output:\\n\", output.numpy())\n",
    "\n",
    "# Run the test case\n",
    "test_scaled_dot_product_attention()\n"
   ]
  },
  {
   "cell_type": "markdown",
   "metadata": {},
   "source": [
    "# 6. Encoder\n",
    "## 6.1 Multi-Head Attention\n",
    "\n",
    "The Transformer Encoder layer pairs self-attention and convolutional neural network style of processing to improve the speed of training and passes K and V matrices to the Decoder. In this section of the Project we will implement the Encoder by pairing multi-head attention and a feed forward neural network \n",
    "\n",
    "\n",
    "<img src=\"images/encoder_layer.png\" alt=\"Encoder\" width=\"400\"/>\n",
    "<caption><center><font color='green'><b>Figure 3a: Transformer encoder layer</font></center></caption>\n",
    "\n",
    "* `MultiHeadAttention`Multiple Heads: Instead of a single attention mechanism, the model uses several attention mechanisms (heads) in parallel.\n",
    "Instead of performing a single attention function with dmodel-dimensional keys, values and queries,\n",
    " we found it beneficial to linearly project the queries, keys and values h times with different, learned\n",
    " linear projections to dk, dk and dv dimensions, respectively. On each of these projected versions of\n",
    " queries, keys and values we then perform the attention function in parallel, yielding dv-dimensional output values\n",
    "  \n",
    "<img src=\"images/multihead.png\" alt=\"Multi-Head\" width=\"400\"/>\n",
    "<caption><center><font color='green'><b>Figure 3b: Multi head Attention</font></center></caption>\n",
    "\n",
    "* Feed forward neural network contains two Dense layers which we'll implement as the function `FullyConnected`\n",
    "\n",
    "\n",
    "\n"
   ]
  },
  {
   "cell_type": "code",
   "execution_count": null,
   "metadata": {},
   "outputs": [],
   "source": [
    "class MultiHeadAttention(tf.keras.layers.Layer):\n",
    "    def __init__(self, d_model, num_head):\n",
    "        super(MultiHeadAttention, self).__init__()\n",
    "        self.num_head = num_head\n",
    "        self.d_model = d_model\n",
    "\n",
    "        assert d_model % num_head == 0\n",
    "        self.depth = d_model//num_head\n",
    "\n",
    "        # q,k,v linear layers prediction from keras\n",
    "\n",
    "        self.wq = tf.keras.layers.Dense(d_model)\n",
    "        self.wk = tf.keras.layers.Dense(d_model)\n",
    "        self.wv = tf.keras.layers.Dense(d_model)\n",
    "\n",
    "        self.dense = tf.keras.layers.Dense(d_model) #  MultiHead(Q,K,V ) = Concat(head1,...,headh)WO\n",
    "\n",
    "    def split_heads(self, x, batch_size):\n",
    "        x = tf.reshape(x,(batch_size, -1, self.num_head, self.depth))\n",
    "\n",
    "        return tf.transpose(x, perm=[0,2,1,3])\n",
    "    \n",
    "    def call(self, q, k, v, mask):\n",
    "        batch_size = tf.shape(q)[0]\n",
    "\n",
    "        # Apply linear layers to project Q, K, V\n",
    "        q = self.wq(q)\n",
    "        k = self.wk(k)\n",
    "        v = self.wv(v)\n",
    "\n",
    "        # Split into multiple heads\n",
    "        q = self.split_heads(q, batch_size)\n",
    "        k = self.split_heads(k, batch_size)\n",
    "        v = self.split_heads(v, batch_size)\n",
    "\n",
    "        # Compute attention\n",
    "        scaled_attention, attention_weights = scaled_dot_product_attention(q, k, v, mask)\n",
    "\n",
    "        # Concatenate multiple heads back together\n",
    "        scaled_attention = tf.transpose(scaled_attention, perm=[0, 2, 1, 3])\n",
    "        concat_attention = tf.reshape(scaled_attention, (batch_size, -1, self.d_model))\n",
    "\n",
    "        # Final projection\n",
    "        output = self.dense(concat_attention)\n",
    "        return output, attention_weights\n",
    "\n",
    "\n",
    "        "
   ]
  },
  {
   "cell_type": "markdown",
   "metadata": {},
   "source": [
    "TEST CASE"
   ]
  },
  {
   "cell_type": "code",
   "execution_count": 6,
   "metadata": {},
   "outputs": [
    {
     "name": "stdout",
     "output_type": "stream",
     "text": [
      "Output shape: (2, 5, 512)\n",
      "Attention Weights shape: (2, 8, 5, 5)\n"
     ]
    }
   ],
   "source": [
    "mha = MultiHeadAttention(d_model=512, num_head=8)\n",
    "\n",
    "q = tf.random.uniform((2, 5, 512))  # (batch_size=2, seq_length=5, d_model=512)\n",
    "k = tf.random.uniform((2, 5, 512))\n",
    "v = tf.random.uniform((2, 5, 512))\n",
    "mask = None  # No mask for now\n",
    "\n",
    "output, attention_weights = mha(q, k, v, mask)\n",
    "\n",
    "print(\"Output shape:\", output.shape)  # Expected: (2, 5, 512)\n",
    "print(\"Attention Weights shape:\", attention_weights.shape)  # Expected: (2, 8, 5, 5)\n"
   ]
  },
  {
   "cell_type": "code",
   "execution_count": null,
   "metadata": {},
   "outputs": [],
   "source": [
    "# FULL ENCODER\n"
   ]
  },
  {
   "cell_type": "markdown",
   "metadata": {},
   "source": [
    "# 7. FeedForward Network"
   ]
  },
  {
   "cell_type": "markdown",
   "metadata": {},
   "source": [
    "# 8. Layer Normalization & Skip Connection"
   ]
  },
  {
   "cell_type": "markdown",
   "metadata": {},
   "source": [
    "# 9. Encoder"
   ]
  },
  {
   "cell_type": "markdown",
   "metadata": {},
   "source": [
    "# 10. Decoder"
   ]
  },
  {
   "cell_type": "markdown",
   "metadata": {},
   "source": [
    "# 11. Transformer Model"
   ]
  },
  {
   "cell_type": "markdown",
   "metadata": {},
   "source": []
  }
 ],
 "metadata": {
  "kernelspec": {
   "display_name": "Python 3",
   "language": "python",
   "name": "python3"
  },
  "language_info": {
   "codemirror_mode": {
    "name": "ipython",
    "version": 3
   },
   "file_extension": ".py",
   "mimetype": "text/x-python",
   "name": "python",
   "nbconvert_exporter": "python",
   "pygments_lexer": "ipython3",
   "version": "3.12.4"
  }
 },
 "nbformat": 4,
 "nbformat_minor": 2
}
